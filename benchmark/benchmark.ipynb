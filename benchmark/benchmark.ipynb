{
 "cells": [
  {
   "cell_type": "code",
   "execution_count": 127,
   "id": "8eb0da21-cbe3-4b8e-8bd8-205e6172bf78",
   "metadata": {
    "tags": []
   },
   "outputs": [],
   "source": [
    "import numpy as np\n",
    "import pandas as pd\n",
    "import sqlite3\n",
    "\n",
    "import matplotlib.pyplot as plt\n",
    "from matplotlib import cm\n",
    "from matplotlib.ticker import LinearLocator\n",
    "from matplotlib.widgets import Slider, Button\n",
    "from datetime import datetime"
   ]
  },
  {
   "cell_type": "code",
   "execution_count": 128,
   "id": "8460900f-9bb8-462a-a916-c85d6cd297d8",
   "metadata": {},
   "outputs": [],
   "source": [
    "con = sqlite3.connect(\"../database.db\")\n",
    "experiments = pd.read_sql_query(\"SELECT * from experiments\", con)"
   ]
  },
  {
   "cell_type": "code",
   "execution_count": 129,
   "id": "ebd6fb94-e3c4-4b9d-a481-c89be4e832b3",
   "metadata": {},
   "outputs": [
    {
     "data": {
      "text/html": [
       "<div>\n",
       "<style scoped>\n",
       "    .dataframe tbody tr th:only-of-type {\n",
       "        vertical-align: middle;\n",
       "    }\n",
       "\n",
       "    .dataframe tbody tr th {\n",
       "        vertical-align: top;\n",
       "    }\n",
       "\n",
       "    .dataframe thead th {\n",
       "        text-align: right;\n",
       "    }\n",
       "</style>\n",
       "<table border=\"1\" class=\"dataframe\">\n",
       "  <thead>\n",
       "    <tr style=\"text-align: right;\">\n",
       "      <th></th>\n",
       "      <th>experiment_id</th>\n",
       "      <th>problem_dimension</th>\n",
       "      <th>particles_number</th>\n",
       "      <th>iterations_number</th>\n",
       "      <th>threads_number</th>\n",
       "      <th>processes_number</th>\n",
       "      <th>neighborhood_population</th>\n",
       "      <th>inertia</th>\n",
       "      <th>phi_1</th>\n",
       "      <th>phi_2</th>\n",
       "      <th>init_max_position</th>\n",
       "      <th>init_min_position</th>\n",
       "      <th>init_max_velocity</th>\n",
       "      <th>init_min_velocity</th>\n",
       "    </tr>\n",
       "  </thead>\n",
       "  <tbody>\n",
       "    <tr>\n",
       "      <th>0</th>\n",
       "      <td>1</td>\n",
       "      <td>10</td>\n",
       "      <td>10</td>\n",
       "      <td>100</td>\n",
       "      <td>2.0</td>\n",
       "      <td>1.0</td>\n",
       "      <td>10</td>\n",
       "      <td>1.0</td>\n",
       "      <td>0.8</td>\n",
       "      <td>0.8</td>\n",
       "      <td>30.0</td>\n",
       "      <td>-30.0</td>\n",
       "      <td>10.0</td>\n",
       "      <td>-10.0</td>\n",
       "    </tr>\n",
       "    <tr>\n",
       "      <th>1</th>\n",
       "      <td>2</td>\n",
       "      <td>10</td>\n",
       "      <td>10</td>\n",
       "      <td>100</td>\n",
       "      <td>2.0</td>\n",
       "      <td>8.0</td>\n",
       "      <td>10</td>\n",
       "      <td>1.0</td>\n",
       "      <td>0.8</td>\n",
       "      <td>0.8</td>\n",
       "      <td>30.0</td>\n",
       "      <td>-30.0</td>\n",
       "      <td>10.0</td>\n",
       "      <td>-10.0</td>\n",
       "    </tr>\n",
       "    <tr>\n",
       "      <th>2</th>\n",
       "      <td>3</td>\n",
       "      <td>10</td>\n",
       "      <td>10</td>\n",
       "      <td>100</td>\n",
       "      <td>NaN</td>\n",
       "      <td>NaN</td>\n",
       "      <td>10</td>\n",
       "      <td>1.0</td>\n",
       "      <td>0.8</td>\n",
       "      <td>0.8</td>\n",
       "      <td>30.0</td>\n",
       "      <td>-30.0</td>\n",
       "      <td>10.0</td>\n",
       "      <td>-10.0</td>\n",
       "    </tr>\n",
       "  </tbody>\n",
       "</table>\n",
       "</div>"
      ],
      "text/plain": [
       "   experiment_id  problem_dimension  particles_number  iterations_number  \\\n",
       "0              1                 10                10                100   \n",
       "1              2                 10                10                100   \n",
       "2              3                 10                10                100   \n",
       "\n",
       "   threads_number  processes_number  neighborhood_population  inertia  phi_1  \\\n",
       "0             2.0               1.0                       10      1.0    0.8   \n",
       "1             2.0               8.0                       10      1.0    0.8   \n",
       "2             NaN               NaN                       10      1.0    0.8   \n",
       "\n",
       "   phi_2  init_max_position  init_min_position  init_max_velocity  \\\n",
       "0    0.8               30.0              -30.0               10.0   \n",
       "1    0.8               30.0              -30.0               10.0   \n",
       "2    0.8               30.0              -30.0               10.0   \n",
       "\n",
       "   init_min_velocity  \n",
       "0              -10.0  \n",
       "1              -10.0  \n",
       "2              -10.0  "
      ]
     },
     "execution_count": 129,
     "metadata": {},
     "output_type": "execute_result"
    }
   ],
   "source": [
    "experiments"
   ]
  },
  {
   "cell_type": "code",
   "execution_count": 132,
   "id": "f429b941-38a4-4702-a44b-8ecea0fa2e84",
   "metadata": {},
   "outputs": [],
   "source": [
    "def compare_two_experiments(id1, id2):\n",
    "    exp1 = pd.read_sql_query(f\"SELECT * from solutions_experiment_{id1}\", con)\n",
    "    exp2 = pd.read_sql_query(f\"SELECT * from solutions_experiment_{id2}\", con)\n",
    "    exp1['timestamp'] = exp1.timestamp.apply(lambda x: datetime.strptime(x, \"%Y-%m-%d %H:%M:%S\"))\n",
    "    exp2['timestamp'] = exp2.timestamp.apply(lambda x: datetime.strptime(x, \"%Y-%m-%d %H:%M:%S\"))\n",
    "    execution_time1 = (exp1.timestamp.max() - exp1.timestamp.min()).total_seconds()\n",
    "    execution_time2 = (exp2.timestamp.max() - exp2.timestamp.min()).total_seconds()\n",
    "\n",
    "    if execution_time1 > execution_time2:\n",
    "        return_msg = f\"Run with id {id1} faster by {execution_time1 - execution_time2} seconds\"\n",
    "    else:\n",
    "        return_msg = f\"Run with id {id2} faster by {execution_time2 - execution_time1} seconds\"\n",
    "    return return_msg"
   ]
  },
  {
   "cell_type": "code",
   "execution_count": 133,
   "id": "994973db-fadc-4a72-9c74-ed97582dc5a8",
   "metadata": {},
   "outputs": [
    {
     "data": {
      "text/plain": [
       "'Run with id 3 faster by 1.0 seconds'"
      ]
     },
     "execution_count": 133,
     "metadata": {},
     "output_type": "execute_result"
    }
   ],
   "source": [
    "compare_two_experiments(2,3)"
   ]
  },
  {
   "cell_type": "code",
   "execution_count": 126,
   "id": "4bf660a0-2951-4bf1-a74c-b898bc11b1cd",
   "metadata": {},
   "outputs": [
    {
     "data": {
      "text/plain": [
       "0.0"
      ]
     },
     "execution_count": 126,
     "metadata": {},
     "output_type": "execute_result"
    }
   ],
   "source": [
    "a"
   ]
  },
  {
   "cell_type": "code",
   "execution_count": null,
   "id": "032975b0-1756-4878-9266-cf9684393c33",
   "metadata": {},
   "outputs": [],
   "source": [
    "con.close()"
   ]
  }
 ],
 "metadata": {
  "kernelspec": {
   "display_name": "Python 3 (ipykernel)",
   "language": "python",
   "name": "python3"
  },
  "language_info": {
   "codemirror_mode": {
    "name": "ipython",
    "version": 3
   },
   "file_extension": ".py",
   "mimetype": "text/x-python",
   "name": "python",
   "nbconvert_exporter": "python",
   "pygments_lexer": "ipython3",
   "version": "3.9.13"
  }
 },
 "nbformat": 4,
 "nbformat_minor": 5
}
