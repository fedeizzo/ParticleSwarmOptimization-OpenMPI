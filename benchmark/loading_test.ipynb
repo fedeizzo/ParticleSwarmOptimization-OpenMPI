{
 "cells": [
  {
   "cell_type": "code",
   "execution_count": null,
   "id": "9ff4f2ec",
   "metadata": {
    "tags": []
   },
   "outputs": [],
   "source": [
    "import numpy as np\n",
    "import pandas as pd\n",
    "import sqlite3"
   ]
  },
  {
   "cell_type": "code",
   "execution_count": null,
   "id": "a117c35c",
   "metadata": {},
   "outputs": [],
   "source": [
    "con = sqlite3.connect(\"../database.db\")\n",
    "df = pd.read_sql_query(\"SELECT * from surveys\", con)\n",
    "con.close()"
   ]
  }
 ],
 "metadata": {
  "kernelspec": {
   "display_name": "Python 3 (ipykernel)",
   "language": "python",
   "name": "python3"
  },
  "language_info": {
   "codemirror_mode": {
    "name": "ipython",
    "version": 3
   },
   "file_extension": ".py",
   "mimetype": "text/x-python",
   "name": "python",
   "nbconvert_exporter": "python",
   "pygments_lexer": "ipython3",
   "version": "3.10.4"
  }
 },
 "nbformat": 4,
 "nbformat_minor": 5
}
